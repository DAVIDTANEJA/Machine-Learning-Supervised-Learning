{
 "cells": [
  {
   "cell_type": "markdown",
   "metadata": {},
   "source": [
    "## SVM (Support Vector Machine)"
   ]
  },
  {
   "cell_type": "code",
   "execution_count": null,
   "metadata": {},
   "outputs": [],
   "source": [
    "SVM -- draws a hyperplane in n-dimensional space such that it maximizes margin between classification groups.\n",
    "2D , 3D , Hyperplane- nD\n",
    "\n",
    "The real-life applications : \n",
    "    Image classification to face detection, recognition of handwriting and even to bioinformatics.\n",
    "\n",
    "The support vector machine algorithms make use of training data to segregate different types of documents and files into\n",
    "different categories."
   ]
  },
  {
   "cell_type": "markdown",
   "metadata": {},
   "source": [
    "SVM : It finds out a line/ hyper-plane (in n-dimensional space that separate outs classes).\n",
    "    \n",
    "<img src='svm1.png'>"
   ]
  },
  {
   "cell_type": "code",
   "execution_count": null,
   "metadata": {},
   "outputs": [],
   "source": [
    "what if we had data as shown in image below? Clearly, there is no line that can separate the two classes in this x-y plane.\n",
    "So we apply transformation and add one more dimension -> z-axis. Lets assume value of points on z plane, w = x² + y².\n",
    "In this case we can manipulate it as distance of point from z-origin. Now if we plot in z-axis, a clear separation is visible\n",
    "and a line can be drawn ."
   ]
  },
  {
   "cell_type": "markdown",
   "metadata": {},
   "source": [
    "<img src='svm2.png'>\n",
    "<img src='svm3.png'>"
   ]
  },
  {
   "cell_type": "code",
   "execution_count": null,
   "metadata": {},
   "outputs": [],
   "source": [
    "When we transform back this line to original plane, it maps to circular boundary. These transformations are called kernels.\n",
    "And SVM implementation provides it inbuilt."
   ]
  },
  {
   "cell_type": "markdown",
   "metadata": {},
   "source": [
    "<img src='svm4.png'>"
   ]
  },
  {
   "cell_type": "markdown",
   "metadata": {},
   "source": [
    "## Making it little complex…"
   ]
  },
  {
   "cell_type": "code",
   "execution_count": null,
   "metadata": {},
   "outputs": [],
   "source": [
    "What if data plot overlaps. Or, what in case some of the black points are inside the blue ones.\n",
    "Which line among 1 or 2 should we draw."
   ]
  },
  {
   "cell_type": "markdown",
   "metadata": {},
   "source": [
    "<img src='svm5.png'>"
   ]
  },
  {
   "cell_type": "code",
   "execution_count": null,
   "metadata": {},
   "outputs": [],
   "source": [
    "Both are correct.                                                                                                            \n",
    "The first one tolerates some outlier points. And have low regularization value.                                              \n",
    "The second one is trying to achieve 0 tolerance with perfect partition. It has High Regularization value.                  "
   ]
  },
  {
   "cell_type": "markdown",
   "metadata": {},
   "source": [
    "\n",
    "<img src='svm6.png'>\n",
    "<img src='svm7.png'>"
   ]
  },
  {
   "cell_type": "code",
   "execution_count": null,
   "metadata": {},
   "outputs": [],
   "source": [
    "But, there is trade off. In real world application, finding perfect class for millions of training data set takes lot of time.\n",
    "This is called regularization parameter."
   ]
  },
  {
   "cell_type": "markdown",
   "metadata": {},
   "source": [
    "## Tuning parameters: Kernel, Regularization, Gamma and Margin."
   ]
  },
  {
   "cell_type": "code",
   "execution_count": null,
   "metadata": {},
   "outputs": [],
   "source": [
    "Kernel : \n",
    "    The learning of the hyperplane in linear SVM is done by transforming the problem using some linear algebra.\n",
    "    For linear kernel the equation for prediction for a new input using the dot product between the input (x) and \n",
    "    each support vector (xi) is calculated as follows:\n",
    "                                f(x) = B(0) + sum(ai * (x,xi))\n",
    "    This equation involves calculating the inner products of a new input vector (x) with all support vectors in training data.\n",
    "    The coefficients B0 and ai (for each input) must be estimated from the training data by the learning algorithm."
   ]
  },
  {
   "cell_type": "code",
   "execution_count": null,
   "metadata": {},
   "outputs": [],
   "source": [
    "Regularization : \n",
    "    The Regularization parameter ( C -parameter ).\n",
    "    \n",
    "    -For large values of C, the optimization will choose a smaller-margin hyperplane if that hyperplane classified all the \n",
    "     training points correctly. \n",
    "    -Small value of C will cause the optimizer to look for a larger-margin separating hyperplane, \n",
    "     even if that hyperplane misclassifies more points."
   ]
  },
  {
   "cell_type": "code",
   "execution_count": null,
   "metadata": {},
   "outputs": [],
   "source": [
    "Gamma :\n",
    "    with low gamma, points far away from seperation line are considered in calculation for the seperation line.\n",
    "    high gamma : means the points close to line are considered in calculation."
   ]
  },
  {
   "cell_type": "markdown",
   "metadata": {},
   "source": [
    "<img src='svm8.png'>\n",
    "<img src='svm9.png'>"
   ]
  },
  {
   "cell_type": "code",
   "execution_count": null,
   "metadata": {},
   "outputs": [],
   "source": [
    "Margin : \n",
    "    A margin is a separation of line to the closest class points.\n",
    "    A good margin allows the points to be in their respective classes without crossing to other class."
   ]
  },
  {
   "cell_type": "markdown",
   "metadata": {},
   "source": [
    "<img src='svm10.png'>\n",
    "<img src='svm11.png'>"
   ]
  }
 ],
 "metadata": {
  "kernelspec": {
   "display_name": "Python 3",
   "language": "python",
   "name": "python3"
  },
  "language_info": {
   "codemirror_mode": {
    "name": "ipython",
    "version": 3
   },
   "file_extension": ".py",
   "mimetype": "text/x-python",
   "name": "python",
   "nbconvert_exporter": "python",
   "pygments_lexer": "ipython3",
   "version": "3.6.8"
  }
 },
 "nbformat": 4,
 "nbformat_minor": 2
}
