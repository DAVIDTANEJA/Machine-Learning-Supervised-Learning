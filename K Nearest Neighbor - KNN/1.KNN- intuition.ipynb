{
 "cells": [
  {
   "cell_type": "code",
   "execution_count": null,
   "metadata": {},
   "outputs": [],
   "source": [
    "nearest neighbour : means like if you are similar to your niegbour then you are one of them,\n",
    "                    for ex : apple looks more similar to banana or orange or melon rather than monkey, rat or cat then most \n",
    "                    likely apple belong to group of fruits.\n",
    "                                                                                               \n",
    "k : denotes the no. of nearest neighbour (which are voting class of new data or the testing data)                         "
   ]
  },
  {
   "cell_type": "code",
   "execution_count": null,
   "metadata": {},
   "outputs": [],
   "source": [
    "KNN : used in industry                                                                                                         \n",
    "a.(recommender sysytem) when you search for a product it also shows you a recommended related product used in amazon, netflix.\n",
    "b.(concept search): search similar documents and classify documents contain similar topics, ex: Image or video recognition."
   ]
  },
  {
   "cell_type": "code",
   "execution_count": null,
   "metadata": {},
   "outputs": [],
   "source": [
    "KNN algorithm : uses least distance measure in order to find its nearest neighbours                                            \n",
    "    a.Manhattan distance (distance b/w A and B measure along the axis at right angle)                                          \n",
    "    b.Euclidean distance (direct or least possible distance b/w two points A and B)                                            "
   ]
  },
  {
   "cell_type": "code",
   "execution_count": null,
   "metadata": {},
   "outputs": [],
   "source": [
    "if we have the Imbalanced dataset, then the o/p is biased ,                                                                    \n",
    "if we have some outliers , sometime KNN biased acc. to those outliers points.                                                  \n",
    "large K means simple model, simple model always condider as high bias, less variance  and  vice-versa.                       \n",
    "The training time for any value of k in kNN algorithm is the same."
   ]
  },
  {
   "cell_type": "code",
   "execution_count": null,
   "metadata": {},
   "outputs": [],
   "source": [
    "for KNN  to calculate we have : \n",
    "    1.Euclidean distance \n",
    "    2.Manhattan distance"
   ]
  },
  {
   "cell_type": "markdown",
   "metadata": {},
   "source": [
    "<img src='KNN1.png'>\n",
    "<img src='KNN2.png'>\n",
    "    \n",
    "KNN algorithm is a lazy learner ?    "
   ]
  },
  {
   "cell_type": "code",
   "execution_count": null,
   "metadata": {},
   "outputs": [],
   "source": [
    "Both Euclidean and Manhattan distances are used in case of continuous variables,                                              \n",
    "whereas hamming distance is used in case of categorical variable."
   ]
  },
  {
   "cell_type": "code",
   "execution_count": null,
   "metadata": {},
   "outputs": [],
   "source": [
    "Process:                                                                                                                       \n",
    "1.Handle data (open the dataset from csv and split into test/train datasets)                                                   \n",
    "2.Similarity (calculate the distance b/w two data instances)                                                                  \n",
    "3.Nieghbors (select k neighbors which having least distance from having new point)                                             \n",
    "4.Response (generate a response from a set of data instance, this will decide new point belongs to class A or class B)         \n",
    "5.Accuracy                                                                                                                     \n",
    "6.Main (tie it to all together)                                                                                                "
   ]
  },
  {
   "cell_type": "markdown",
   "metadata": {},
   "source": [
    "<img src=\"KNN.PNG\">"
   ]
  },
  {
   "cell_type": "code",
   "execution_count": null,
   "metadata": {},
   "outputs": [],
   "source": [
    "How to choose K-value , see in implementation of 'KNN.ipynb' file."
   ]
  }
 ],
 "metadata": {
  "kernelspec": {
   "display_name": "Python 3",
   "language": "python",
   "name": "python3"
  },
  "language_info": {
   "codemirror_mode": {
    "name": "ipython",
    "version": 3
   },
   "file_extension": ".py",
   "mimetype": "text/x-python",
   "name": "python",
   "nbconvert_exporter": "python",
   "pygments_lexer": "ipython3",
   "version": "3.6.8"
  }
 },
 "nbformat": 4,
 "nbformat_minor": 2
}
