{
 "cells": [
  {
   "cell_type": "code",
   "execution_count": null,
   "metadata": {},
   "outputs": [],
   "source": [
    "Even without any knowledge of machine learning, you can say that if you have to predict sales for an item – it would be \n",
    "the average over last few days . / months / weeks.                                                                             \n",
    "Turns out that there are various ways in which we can evaluate how good is our model.                                          \n",
    "The most common way is Mean Squared Error."
   ]
  },
  {
   "cell_type": "code",
   "execution_count": null,
   "metadata": {},
   "outputs": [],
   "source": [
    "To evaluate how good is a model, lets understand the impact of wrong predictions. If we predict sales to be higher than \n",
    "what they might be, the store will spend a lot of money making unnecessary arrangement which would lead to excess inventory.\n",
    "On the other side if I predict it too low, I will lose out on sales opportunity.\n",
    "\n",
    "1.Mean Squared error :                                                                                                         \n",
    "    to calculate the difference in the predicted and actual values. However, if we simply add them, they might cancel out,\n",
    "    so we square these errors before adding. We also divide them by the number of data points to calculate a mean square error, \n",
    "    since it should not be dependent on number of data points.\n",
    "                     \n",
    "                ( e1^2 + e2^2 + ..... + en^2 ) / n           # e1, e2 : difference between the actual and the predicted values,\n",
    "                                                             # n - no. of data points       \n",
    "                                                             \n",
    "                mse = np.mean((y_pred - y_test)**2)"
   ]
  },
  {
   "cell_type": "code",
   "execution_count": null,
   "metadata": {},
   "outputs": [],
   "source": [
    "2.The Best Line Fit :   (of Linear regression)                                                                                 \n",
    "    The main purpose of the best fit line is that our predicted values should be closer to our actual or the observed values,\n",
    "    because there is no point in predicting values which are far away from the real values. In other words, we tend to minimize\n",
    "    the difference between the values predicted by us and the observed values, and which is actually termed as error.\n",
    "    These errors are also called as residuals. The residuals are indicated by the vertical lines showing the difference \n",
    "    between the predicted and actual value.\n",
    "   \n",
    "    Sum of Square of Residuals :   \n",
    "        it’s the method mostly used in practice, here we penalize higher error value much more as compared to smaller one,\n",
    "        so that there is a significant difference between making big errors and small errors, which makes it easy \n",
    "        to differentiate and select the best fit line."
   ]
  },
  {
   "cell_type": "markdown",
   "metadata": {},
   "source": [
    "<img src='sum_of_square_residuals.png'>\n",
    "\n",
    "h(x) is the value predicted by us( h(x) =Θ1*x +Θ0 ) , y is the actual values and m is the number of rows in the training set."
   ]
  },
  {
   "cell_type": "code",
   "execution_count": null,
   "metadata": {},
   "outputs": [],
   "source": [
    "3.The Cost function :                                                                                                          \n",
    "    So let’s say, you increased the size of a particular shop, where you predicted that the sales would be higher.\n",
    "    But despite increasing the size, the sales in that shop did not increase that much. So the cost applied in increasing\n",
    "    the size of the shop, gave you negative results. So, we need to minimize these costs.\n",
    "    Therefore we introduce a cost function, which is basically used to define and measure the error of the model.\n",
    "         \n",
    "--> it is just similar to sum of squared errors, with just a factor of 1/2m is multiplied in order to ease mathematics.\n",
    "    to improve our prediction, we need to minimize the cost function. For this purpose we use the gradient descent algorithm."
   ]
  },
  {
   "cell_type": "markdown",
   "metadata": {},
   "source": [
    "<img src='cost_function.png'>"
   ]
  },
  {
   "cell_type": "code",
   "execution_count": null,
   "metadata": {},
   "outputs": [],
   "source": [
    "4.Gradient Descent :                                                                                                          \n",
    "    Gradient Descent -- is an algorithm that finds best fit line for given training data set. (MSE=Cost function are similar)\n",
    "    Y= 5x + 4x^2.                                                                                                              \n",
    "    In mathematics, we simple take the derivative of this equation with respect to x, simply equate it to zero.\n",
    "    This gives us the point where this equation is minimum. Therefore substituting that value can give us the minimum value of\n",
    "    that equation. Gradient descent works in a similar manner. It iteratively updates Θ, to find a point where the cost function\n",
    "    would be minimum. "
   ]
  },
  {
   "cell_type": "code",
   "execution_count": null,
   "metadata": {},
   "outputs": [],
   "source": [
    "5. R-Square  and  Adjusted R-Square :                                                                                           \n",
    "\n",
    "How accurate do you think the model is? Actually we have a quantity, known as R-Square.  (or Its an accuracy check)\n",
    "    \n",
    "R-Square:                                                                                                                      \n",
    "        It determines how much of the total variation in Y (dependent variable) is explained by the variation in\n",
    "        X (independent variable). \n",
    "        \n",
    "        The value of R-square is always between 0 and 1, where 0 means that the model does not explain any variability \n",
    "        in the target variable (Y)  and  1 means it explains full variability in the target variable(Y).\n",
    "    \n",
    "    The drawback of R-Square is that if new predictors (X) are added to our model, R-Square only increases or remains constant\n",
    "    but it never decreases. We can not judge that by increasing complexity of our model, are we making it more accurate."
   ]
  },
  {
   "cell_type": "markdown",
   "metadata": {},
   "source": [
    "<img src='R-square.png'>"
   ]
  },
  {
   "cell_type": "code",
   "execution_count": null,
   "metadata": {},
   "outputs": [],
   "source": [
    "Adjusted R-Square :                                                                                                            \n",
    "        is the modified form of R-Square that has been adjusted for the number of predictors in the model. It incorporates\n",
    "        model’s degree of freedom. The adjusted R-Square only increases if the new term improves the model accuracy.\n",
    "                        \n",
    "        R^2 = Sample R square , p = Number of predictors , N = total sample size"
   ]
  },
  {
   "cell_type": "markdown",
   "metadata": {},
   "source": [
    "<img src='adjusted-r-square.png'>"
   ]
  },
  {
   "cell_type": "code",
   "execution_count": null,
   "metadata": {},
   "outputs": [],
   "source": [
    "6.Overfitting (High variance) and  Underfitting (High bias)\n",
    "\n",
    "To overcome underfitting(high bias), we basically add new parameters to our model so that the model complexity increases,\n",
    "and thus reducing high bias.\n",
    "\n",
    "how can we overcome Overfitting for a regression model :  there are two methods to overcome overfitting\n",
    "    ->Reduce the model complexity (decrease the no. of parameters to model)\n",
    "    ->Regularization\n",
    "    \n",
    "In regularization, what we do is normally we keep the same number of features, but reduce the magnitude of the coefficients.    \n",
    "For this purpose, we have different types of regression techniques which uses regularization to overcome this problem.\n",
    "\n",
    "-->Ridge regression  \n",
    "(It uses L2 regularization technique)\n",
    "\n",
    "-->Lasso regression \n",
    "(It uses L1 regularization technique)\n",
    "\n",
    "-->Elastic Net regression\n",
    "Elastic Net regression : generally works well when we have a big dataset. It is combination of both L1 and L2 regularization."
   ]
  },
  {
   "cell_type": "markdown",
   "metadata": {},
   "source": [
    "### Using Linear Regression for Prediction"
   ]
  },
  {
   "cell_type": "code",
   "execution_count": 5,
   "metadata": {},
   "outputs": [],
   "source": [
    "import numpy as np\n",
    "import pandas as pd\n",
    "from sklearn.model_selection import train_test_split\n",
    "from sklearn.linear_model import LinearRegression"
   ]
  },
  {
   "cell_type": "code",
   "execution_count": 7,
   "metadata": {},
   "outputs": [],
   "source": [
    "train = pd.read_csv('Train.csv')\n",
    "test = pd.read_csv('Test.csv')"
   ]
  },
  {
   "cell_type": "code",
   "execution_count": 10,
   "metadata": {},
   "outputs": [
    {
     "data": {
      "text/plain": [
       "Index(['Item_Identifier', 'Item_Weight', 'Item_Fat_Content', 'Item_Visibility',\n",
       "       'Item_Type', 'Item_MRP', 'Outlet_Identifier',\n",
       "       'Outlet_Establishment_Year', 'Outlet_Size', 'Outlet_Location_Type',\n",
       "       'Outlet_Type', 'Item_Outlet_Sales'],\n",
       "      dtype='object')"
      ]
     },
     "execution_count": 10,
     "metadata": {},
     "output_type": "execute_result"
    }
   ],
   "source": [
    "train.columns"
   ]
  },
  {
   "cell_type": "code",
   "execution_count": 16,
   "metadata": {},
   "outputs": [],
   "source": [
    "X = train.loc[:, ['Outlet_Establishment_Year','Item_MRP']]\n",
    "y = train.Item_Outlet_Sales"
   ]
  },
  {
   "cell_type": "code",
   "execution_count": 17,
   "metadata": {},
   "outputs": [],
   "source": [
    "X_train, X_cv, y_train, y_cv = train_test_split(X, y)         # cv - for cross validation"
   ]
  },
  {
   "cell_type": "code",
   "execution_count": 19,
   "metadata": {},
   "outputs": [
    {
     "data": {
      "text/plain": [
       "LinearRegression(copy_X=True, fit_intercept=True, n_jobs=None,\n",
       "         normalize=False)"
      ]
     },
     "execution_count": 19,
     "metadata": {},
     "output_type": "execute_result"
    }
   ],
   "source": [
    "lreg = LinearRegression()        # Linear Regression\n",
    "\n",
    "lreg.fit(X_train, y_train)"
   ]
  },
  {
   "cell_type": "code",
   "execution_count": 21,
   "metadata": {},
   "outputs": [],
   "source": [
    "pred = lreg.predict(X_cv)"
   ]
  },
  {
   "cell_type": "markdown",
   "metadata": {},
   "source": [
    "### Calculating Mean Squared error"
   ]
  },
  {
   "cell_type": "code",
   "execution_count": 28,
   "metadata": {},
   "outputs": [
    {
     "data": {
      "text/plain": [
       "1988422.3439036114"
      ]
     },
     "execution_count": 28,
     "metadata": {},
     "output_type": "execute_result"
    }
   ],
   "source": [
    "mse = np.mean((pred - y_cv)**2)    # pred : predicted value , y_cv : actual value\n",
    "mse"
   ]
  },
  {
   "cell_type": "code",
   "execution_count": 26,
   "metadata": {},
   "outputs": [
    {
     "data": {
      "text/plain": [
       "array([-8.8613268, 15.3293233])"
      ]
     },
     "execution_count": 26,
     "metadata": {},
     "output_type": "execute_result"
    }
   ],
   "source": [
    "lreg.coef_         # gives coefficient of both columns : 'Outlet_establishment_year'  and  'Item_MRP'  "
   ]
  },
  {
   "cell_type": "code",
   "execution_count": 27,
   "metadata": {},
   "outputs": [
    {
     "data": {
      "text/plain": [
       "17711.056924832614"
      ]
     },
     "execution_count": 27,
     "metadata": {},
     "output_type": "execute_result"
    }
   ],
   "source": [
    "lreg.intercept_"
   ]
  },
  {
   "cell_type": "code",
   "execution_count": 29,
   "metadata": {},
   "outputs": [
    {
     "data": {
      "text/plain": [
       "0.3437781582125675"
      ]
     },
     "execution_count": 29,
     "metadata": {},
     "output_type": "execute_result"
    }
   ],
   "source": [
    "lreg.score(X_cv, y_cv)         # Its check the accuracy of model. "
   ]
  },
  {
   "cell_type": "markdown",
   "metadata": {},
   "source": [
    "Now what would happen if I introduce one more feature in my model, will my model predict values more closely to its actual\n",
    "value? Will the value of R-Square increase? Let us consider another case."
   ]
  },
  {
   "cell_type": "markdown",
   "metadata": {},
   "source": [
    "### Linear regression with more variables"
   ]
  },
  {
   "cell_type": "code",
   "execution_count": 44,
   "metadata": {},
   "outputs": [],
   "source": [
    "train['Item_Weight'].fillna((train['Item_Weight'].mean()), inplace=True)    # 'Item_Weight' contains NaN values"
   ]
  },
  {
   "cell_type": "code",
   "execution_count": 45,
   "metadata": {},
   "outputs": [],
   "source": [
    "X = train.loc[:,['Outlet_Establishment_Year','Item_MRP','Item_Weight']]         # 'Item_Weight'  also taken"
   ]
  },
  {
   "cell_type": "code",
   "execution_count": 46,
   "metadata": {},
   "outputs": [],
   "source": [
    "x_train, x_cv, y_train, y_cv = train_test_split(X,y)"
   ]
  },
  {
   "cell_type": "code",
   "execution_count": 47,
   "metadata": {},
   "outputs": [
    {
     "data": {
      "text/plain": [
       "LinearRegression(copy_X=True, fit_intercept=True, n_jobs=None,\n",
       "         normalize=False)"
      ]
     },
     "execution_count": 47,
     "metadata": {},
     "output_type": "execute_result"
    }
   ],
   "source": [
    "lreg.fit(x_train, y_train)"
   ]
  },
  {
   "cell_type": "code",
   "execution_count": 49,
   "metadata": {},
   "outputs": [],
   "source": [
    "pred = lreg.predict(x_cv)"
   ]
  },
  {
   "cell_type": "code",
   "execution_count": 50,
   "metadata": {},
   "outputs": [
    {
     "data": {
      "text/plain": [
       "2031305.8585451297"
      ]
     },
     "execution_count": 50,
     "metadata": {},
     "output_type": "execute_result"
    }
   ],
   "source": [
    "mse = np.mean((pred - y_cv)**2)\n",
    "mse"
   ]
  },
  {
   "cell_type": "code",
   "execution_count": 57,
   "metadata": {},
   "outputs": [
    {
     "name": "stdout",
     "output_type": "stream",
     "text": [
      "Mean Squared Error :  2031305.8585451297\n",
      "Coefficients are :  [-11.17720757  15.43323197  -2.37218252]\n",
      "R-Square Score :  0.3319108998142322\n"
     ]
    }
   ],
   "source": [
    "print('Mean Squared Error : ', mse)\n",
    "print('Coefficients are : ', lreg.coef_)\n",
    "print('R-Square Score : ', lreg.score(x_cv, y_cv))"
   ]
  },
  {
   "cell_type": "markdown",
   "metadata": {},
   "source": [
    "### Using all the features for prediction"
   ]
  },
  {
   "cell_type": "code",
   "execution_count": 58,
   "metadata": {},
   "outputs": [
    {
     "data": {
      "text/plain": [
       "Index(['Item_Identifier', 'Item_Weight', 'Item_Fat_Content', 'Item_Visibility',\n",
       "       'Item_Type', 'Item_MRP', 'Outlet_Identifier',\n",
       "       'Outlet_Establishment_Year', 'Outlet_Size', 'Outlet_Location_Type',\n",
       "       'Outlet_Type', 'Item_Outlet_Sales'],\n",
       "      dtype='object')"
      ]
     },
     "execution_count": 58,
     "metadata": {},
     "output_type": "execute_result"
    }
   ],
   "source": [
    "train.columns"
   ]
  },
  {
   "cell_type": "code",
   "execution_count": 62,
   "metadata": {},
   "outputs": [],
   "source": [
    "train['Item_Visibility'] = train['Item_Visibility'].replace(0, np.mean(train['Item_Visibility']))\n",
    "train['Outlet_Establishment_Year'] = 2013 - train['Outlet_Establishment_Year']\n",
    "train['Outlet_Size'].fillna('Small', inplace=True)"
   ]
  },
  {
   "cell_type": "code",
   "execution_count": 65,
   "metadata": {},
   "outputs": [],
   "source": [
    "# creating dummy var. for categorical data\n",
    "\n",
    "mylist = list(train.select_dtypes(include=['object']).columns)\n",
    "dummies = pd.get_dummies(train[mylist], prefix=mylist)"
   ]
  },
  {
   "cell_type": "code",
   "execution_count": 67,
   "metadata": {},
   "outputs": [],
   "source": [
    "train.drop(mylist, axis=1, inplace=True)\n",
    "\n",
    "X = pd.concat([train, dummies], axis=1)"
   ]
  },
  {
   "cell_type": "code",
   "execution_count": 69,
   "metadata": {},
   "outputs": [],
   "source": [
    "X = train.drop('Item_Outlet_Sales', axis=1)"
   ]
  },
  {
   "cell_type": "code",
   "execution_count": 70,
   "metadata": {},
   "outputs": [],
   "source": [
    "X_train, X_cv, y_train, y_cv = train_test_split(X, train.Item_Outlet_Sales, test_size=0.3)"
   ]
  },
  {
   "cell_type": "code",
   "execution_count": 71,
   "metadata": {},
   "outputs": [
    {
     "data": {
      "text/plain": [
       "LinearRegression(copy_X=True, fit_intercept=True, n_jobs=None,\n",
       "         normalize=False)"
      ]
     },
     "execution_count": 71,
     "metadata": {},
     "output_type": "execute_result"
    }
   ],
   "source": [
    "lreg.fit(X_train, y_train)"
   ]
  },
  {
   "cell_type": "code",
   "execution_count": 73,
   "metadata": {},
   "outputs": [],
   "source": [
    "pred_cv = lreg.predict(X_cv)"
   ]
  },
  {
   "cell_type": "code",
   "execution_count": 75,
   "metadata": {},
   "outputs": [],
   "source": [
    "mse = np.mean((pred_cv - y_cv)**2)"
   ]
  },
  {
   "cell_type": "code",
   "execution_count": 76,
   "metadata": {},
   "outputs": [
    {
     "name": "stdout",
     "output_type": "stream",
     "text": [
      "Mean Squared Error :  1927718.664115257\n",
      "R-Square :  0.3357450860849427\n"
     ]
    }
   ],
   "source": [
    "print('Mean Squared Error : ', mse)\n",
    "print('R-Square : ', lreg.score(X_cv, y_cv))"
   ]
  },
  {
   "cell_type": "code",
   "execution_count": 78,
   "metadata": {},
   "outputs": [],
   "source": [
    "import matplotlib.pyplot as plt\n",
    "%matplotlib inline"
   ]
  },
  {
   "cell_type": "code",
   "execution_count": 79,
   "metadata": {},
   "outputs": [
    {
     "data": {
      "text/plain": [
       "Text(0.5, 1.0, 'Residual plot')"
      ]
     },
     "execution_count": 79,
     "metadata": {},
     "output_type": "execute_result"
    },
    {
     "data": {
      "image/png": "[encoded data removed]",
      "text/plain": [
       "<Figure size 432x288 with 1 Axes>"
      ]
     },
     "metadata": {
      "needs_background": "light"
     },
     "output_type": "display_data"
    }
   ],
   "source": [
    "x_plot = plt.scatter(pred_cv, (pred_cv - y_cv), c='b')\n",
    "\n",
    "plt.hlines(y=0, xmin= -1000, xmax=5000)\n",
    "\n",
    "plt.title('Residual plot')"
   ]
  },
  {
   "cell_type": "markdown",
   "metadata": {},
   "source": [
    "## ----------------------------------------"
   ]
  },
  {
   "cell_type": "markdown",
   "metadata": {},
   "source": [
    "## Ridge Regression"
   ]
  },
  {
   "cell_type": "code",
   "execution_count": 83,
   "metadata": {},
   "outputs": [],
   "source": [
    "from sklearn.linear_model import Ridge\n",
    "from pandas import Series"
   ]
  },
  {
   "cell_type": "code",
   "execution_count": 86,
   "metadata": {},
   "outputs": [],
   "source": [
    "ridgeReg = Ridge(alpha=0.05, normalize=True)\n",
    "\n",
    "ridgeReg.fit(X_train,y_train)\n",
    "\n",
    "pred = ridgeReg.predict(X_cv)"
   ]
  },
  {
   "cell_type": "code",
   "execution_count": 88,
   "metadata": {},
   "outputs": [],
   "source": [
    "mse = np.mean((pred_cv - y_cv)**2)"
   ]
  },
  {
   "cell_type": "code",
   "execution_count": 89,
   "metadata": {},
   "outputs": [
    {
     "data": {
      "text/plain": [
       "1927718.664115257"
      ]
     },
     "execution_count": 89,
     "metadata": {},
     "output_type": "execute_result"
    }
   ],
   "source": [
    "mse"
   ]
  },
  {
   "cell_type": "code",
   "execution_count": 90,
   "metadata": {},
   "outputs": [
    {
     "name": "stdout",
     "output_type": "stream",
     "text": [
      "Mean Squared Error :  1927718.664115257\n",
      "R-Square :  0.33597028421136554\n"
     ]
    }
   ],
   "source": [
    "print('Mean Squared Error : ', mse)\n",
    "print('R-Square : ', ridgeReg.score(X_cv, y_cv))"
   ]
  },
  {
   "cell_type": "code",
   "execution_count": null,
   "metadata": {},
   "outputs": [],
   "source": [
    "lets consider different values of alpha(alpha=0.05,0.5,5,10 ) and plot the coefficients.                                     \n",
    "As increases the value of alpha, 'magnitude of coefficients decreases' where the values reaches to zero but not absolute zero.\n",
    "calculate R-square for each alpha, using the one which gives us lowest error.                                                  \n",
    "\n",
    "If you notice, we come across an extra term, which is known as the 'penalty' term.                                            \n",
    "'λ' given here, is actually denoted by alpha parameter in the 'ridge function'. So by changing the values of alpha, we are\n",
    "basically controlling the penalty term. Higher the values of alpha, bigger is the penalty and therefore the magnitude of \n",
    "coefficients are reduced.\n",
    "\n",
    "It shrinks the parameters, therefore it is mostly used to prevent multicollinearity.                                          \n",
    "It reduces the model complexity by coefficient shrinkage.                                                                      \n",
    "It uses L2 regularization technique.                                                                                            "
   ]
  },
  {
   "cell_type": "markdown",
   "metadata": {},
   "source": [
    "## --------------------------------------------------------"
   ]
  },
  {
   "cell_type": "markdown",
   "metadata": {},
   "source": [
    "# Lasso Regression  (Least Absolute Shrinkage Selector Operator)"
   ]
  },
  {
   "cell_type": "code",
   "execution_count": 91,
   "metadata": {},
   "outputs": [],
   "source": [
    "from sklearn.linear_model import Lasso\n",
    "\n",
    "lassoReg = Lasso(alpha=0.3, normalize=True)   # aplpha=0.05,0.5\n",
    "\n",
    "lassoReg.fit(X_train,y_train)\n",
    "\n",
    "pred = lassoReg.predict(X_cv)"
   ]
  },
  {
   "cell_type": "code",
   "execution_count": 92,
   "metadata": {},
   "outputs": [],
   "source": [
    "mse = np.mean((pred_cv - y_cv)**2)"
   ]
  },
  {
   "cell_type": "code",
   "execution_count": 93,
   "metadata": {},
   "outputs": [
    {
     "name": "stdout",
     "output_type": "stream",
     "text": [
      "Mean Squared Error :  1927718.664115257\n",
      "R-Square :  0.3358128986448432\n"
     ]
    }
   ],
   "source": [
    "print('Mean Squared Error : ', mse)\n",
    "print('R-Square : ', lassoReg.score(X_cv, y_cv))"
   ]
  },
  {
   "cell_type": "code",
   "execution_count": null,
   "metadata": {},
   "outputs": [],
   "source": [
    "lets change the value of alpha and see how does it affect the coefficients.                                                    \n",
    "we can see that even at small values of alpha, the magnitude of coefficients have reduced a lot.                               \n",
    "\n",
    "In case of Ridge as we increased the value of alpha, coefficients were approaching towards zero, \n",
    "But if you see in case of 'lasso' , even at smaller alpha’s, our coefficients are reducing to absolute zeroes.                \n",
    "Therefore, lasso selects the only some feature while reduces the coefficients of others to zero.                            \n",
    "This property is known as feature selection and which is absent in case of ridge.                                           \n",
    "\n",
    "It uses L1 regularization technique.                                                                                          \n",
    "It is generally used when we have more number of features, because it automatically does feature selection."
   ]
  },
  {
   "cell_type": "markdown",
   "metadata": {},
   "source": [
    "## -------------------------------------------------------"
   ]
  },
  {
   "cell_type": "markdown",
   "metadata": {},
   "source": [
    "## Elastic Net Regression"
   ]
  },
  {
   "cell_type": "code",
   "execution_count": 94,
   "metadata": {},
   "outputs": [],
   "source": [
    "from sklearn.linear_model import ElasticNet\n",
    "\n",
    "ENreg = ElasticNet(alpha=1, l1_ratio=0.5, normalize=False)\n",
    "\n",
    "ENreg.fit(X_train,y_train)\n",
    "\n",
    "pred_cv = ENreg.predict(X_cv)\n",
    "\n",
    "\n",
    "mse = np.mean((pred_cv - y_cv)**2)"
   ]
  },
  {
   "cell_type": "code",
   "execution_count": 95,
   "metadata": {},
   "outputs": [
    {
     "name": "stdout",
     "output_type": "stream",
     "text": [
      "Mean Squared Error :  1973094.6831021125\n",
      "R-Square :  0.3358128986448432\n"
     ]
    }
   ],
   "source": [
    "print('Mean Squared Error : ', mse)\n",
    "print('R-Square : ', ENreg.score(X_cv, y_cv))"
   ]
  },
  {
   "cell_type": "code",
   "execution_count": null,
   "metadata": {},
   "outputs": [],
   "source": [
    "Elastic net regression generally works well when we have a big dataset.                                                     \n",
    "\n",
    "Elastic net is basically a combination of both L1 and L2 regularization. So if you know elastic net, you can implement both\n",
    "'Ridge' and 'Lasso' by tuning the parameters. So it uses both L1 and L2 penality term.                                      \n",
    "\n",
    "Let’ say, we have a bunch of correlated independent variables in a dataset, then elastic net will simply form a group consists\n",
    "of these correlated variables. Now if any one of the variable of this group is a strong predictor\n",
    "(means : having a strong relationship with dependent variable), then we will include the entire group in the model building,\n",
    "because omitting other variables (like what we did in lasso) might result in losing some information in terms of interpretation\n",
    "ability, leading to a poor model performance.\n",
    "\n",
    "                alpha = a + b  and  l1_ratio =  a / (a+b)\n",
    "\n",
    "'a' and 'b' weights assigned to L1 and L2. So when we change the values of alpha and l1_ratio,                                 \n",
    "'a' and 'b' are set accordingly such that they control trade off between L1 and L2.                                            \n",
    "\n",
    "\n",
    "                a * (L1 term) + b* (L2 term)\n",
    "    \n",
    "a * (L1 term) + b* (L2 term) , consider the following cases :                                                                  \n",
    "    -If l1_ratio =1, l1_ratio can only be equal to 1 if a=1, which implies b=0. Therefore, it will be a lasso penalty.         \n",
    "    -Similarly if l1_ratio = 0, implies a=0. Then the penalty will be a ridge penalty.                                         \n",
    "    -For l1_ratio between 0 and 1, the penalty is the combination of ridge and lasso.                                          "
   ]
  }
 ],
 "metadata": {
  "kernelspec": {
   "display_name": "Python 3",
   "language": "python",
   "name": "python3"
  },
  "language_info": {
   "codemirror_mode": {
    "name": "ipython",
    "version": 3
   },
   "file_extension": ".py",
   "mimetype": "text/x-python",
   "name": "python",
   "nbconvert_exporter": "python",
   "pygments_lexer": "ipython3",
   "version": "3.6.8"
  }
 },
 "nbformat": 4,
 "nbformat_minor": 2
}
